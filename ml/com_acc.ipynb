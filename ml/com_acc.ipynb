{
  "cells": [
    {
      "cell_type": "markdown",
      "metadata": {},
      "source": [
        "Comparing ml models based on cross validation accuracy"
      ]
    },
    {
      "cell_type": "code",
      "execution_count": 2,
      "metadata": {
        "id": "Dyz03q2Seith"
      },
      "outputs": [],
      "source": [
        "import numpy as np\n",
        "import pandas as pd\n",
        "from sklearn.model_selection import cross_val_score\n",
        "from sklearn.model_selection import GridSearchCV\n",
        "from sklearn.preprocessing import StandardScaler\n",
        "from IPython import get_ipython\n",
        "from IPython.display import display\n",
        "from sklearn.preprocessing import LabelEncoder"
      ]
    },
    {
      "cell_type": "code",
      "execution_count": null,
      "metadata": {
        "id": "EHCud35JlDfs"
      },
      "outputs": [],
      "source": [
        "from sklearn.linear_model import LogisticRegression\n",
        "from sklearn.svm import SVC\n",
        "from sklearn.ensemble import RandomForestClassifier\n",
        "from sklearn.neighbors import KNeighborsClassifier"
      ]
    },
    {
      "cell_type": "markdown",
      "metadata": {},
      "source": [
        "read dataset"
      ]
    },
    {
      "cell_type": "code",
      "execution_count": 6,
      "metadata": {
        "id": "cT475fLpuH0p"
      },
      "outputs": [],
      "source": [
        "data = pd.read_csv('Crop_recommendation.csv')"
      ]
    },
    {
      "cell_type": "markdown",
      "metadata": {},
      "source": [
        "separate label and standardise the remaining columns"
      ]
    },
    {
      "cell_type": "code",
      "execution_count": 7,
      "metadata": {
        "colab": {
          "base_uri": "https://localhost:8080/"
        },
        "id": "ycRwztATvkZX",
        "outputId": "5750e28c-17d7-4c22-af52-1dd7eebd6f0b"
      },
      "outputs": [
        {
          "name": "stdout",
          "output_type": "stream",
          "text": [
            "        N   P   K  temperature   humidity        ph    rainfall\n",
            "0      90  42  43    20.879744  82.002744  6.502985  202.935536\n",
            "1      85  58  41    21.770462  80.319644  7.038096  226.655537\n",
            "2      60  55  44    23.004459  82.320763  7.840207  263.964248\n",
            "3      74  35  40    26.491096  80.158363  6.980401  242.864034\n",
            "4      78  42  42    20.130175  81.604873  7.628473  262.717340\n",
            "...   ...  ..  ..          ...        ...       ...         ...\n",
            "2195  107  34  32    26.774637  66.413269  6.780064  177.774507\n",
            "2196   99  15  27    27.417112  56.636362  6.086922  127.924610\n",
            "2197  118  33  30    24.131797  67.225123  6.362608  173.322839\n",
            "2198  117  32  34    26.272418  52.127394  6.758793  127.175293\n",
            "2199  104  18  30    23.603016  60.396475  6.779833  140.937041\n",
            "\n",
            "[2200 rows x 7 columns]\n",
            "[[ 1.0687974  -0.34455075 -0.1016875  ...  0.47266646  0.04330173\n",
            "   1.8103605 ]\n",
            " [ 0.93332887  0.14061552 -0.14118477 ...  0.39705125  0.73487256\n",
            "   2.24205791]\n",
            " [ 0.25598625  0.04964684 -0.08193887 ...  0.48695381  1.77151047\n",
            "   2.92106603]\n",
            " ...\n",
            " [ 1.82742114 -0.61745677 -0.35841972 ... -0.19123516 -0.13812031\n",
            "   1.27141766]\n",
            " [ 1.80032743 -0.64777967 -0.27942519 ... -0.86951801  0.37390383\n",
            "   0.43154519]\n",
            " [ 1.44810927 -1.07230015 -0.35841972 ... -0.49802006  0.40109573\n",
            "   0.68200518]]\n"
          ]
        }
      ],
      "source": [
        "x = data.drop(columns='label', axis=1)\n",
        "print(x)\n",
        "std = StandardScaler()\n",
        "x_std = std.fit_transform(x)\n",
        "print(x_std)"
      ]
    },
    {
      "cell_type": "markdown",
      "metadata": {},
      "source": [
        "crop label"
      ]
    },
    {
      "cell_type": "code",
      "execution_count": 8,
      "metadata": {
        "colab": {
          "base_uri": "https://localhost:8080/"
        },
        "id": "hVb2rn05wsEb",
        "outputId": "4812f10e-d74f-4f5a-beeb-be9440ce07b8"
      },
      "outputs": [
        {
          "name": "stdout",
          "output_type": "stream",
          "text": [
            "0         rice\n",
            "1         rice\n",
            "2         rice\n",
            "3         rice\n",
            "4         rice\n",
            "         ...  \n",
            "2195    coffee\n",
            "2196    coffee\n",
            "2197    coffee\n",
            "2198    coffee\n",
            "2199    coffee\n",
            "Name: label, Length: 2200, dtype: object\n"
          ]
        }
      ],
      "source": [
        "y = data['label']\n",
        "print(y)"
      ]
    },
    {
      "cell_type": "markdown",
      "metadata": {},
      "source": [
        "encoded labels"
      ]
    },
    {
      "cell_type": "code",
      "execution_count": 9,
      "metadata": {
        "colab": {
          "base_uri": "https://localhost:8080/"
        },
        "id": "9iv5vDey5VuS",
        "outputId": "0e575614-86f5-4815-f265-decf4cb6d54b"
      },
      "outputs": [
        {
          "name": "stdout",
          "output_type": "stream",
          "text": [
            "[20 20 20 ...  5  5  5]\n"
          ]
        }
      ],
      "source": [
        "le = LabelEncoder()\n",
        "ye = le.fit_transform(y)\n",
        "print(ye)"
      ]
    },
    {
      "cell_type": "markdown",
      "metadata": {},
      "source": [
        "comparing models"
      ]
    },
    {
      "cell_type": "code",
      "execution_count": 20,
      "metadata": {
        "id": "Z5gFmBCz3QWc"
      },
      "outputs": [],
      "source": [
        "#list of models\n",
        "models = [LogisticRegression(max_iter=3000), SVC(), KNeighborsClassifier(), RandomForestClassifier(random_state=0)]"
      ]
    },
    {
      "cell_type": "code",
      "execution_count": 21,
      "metadata": {
        "colab": {
          "base_uri": "https://localhost:8080/"
        },
        "id": "0wHlLPA13U6p",
        "outputId": "b63d17ea-6b96-41a5-e51b-41ecdb533d4e"
      },
      "outputs": [
        {
          "name": "stdout",
          "output_type": "stream",
          "text": [
            "Cross validation accuracy for the model LogisticRegression(max_iter=3000) is [0.97272727 0.95454545 0.97727273 0.96818182 0.98409091]\n",
            "Accuracy score of the model LogisticRegression(max_iter=3000) is 97.14 %\n",
            " \n",
            "Cross validation accuracy for the model SVC() is [0.97954545 0.98409091 0.98181818 0.98181818 0.98409091]\n",
            "Accuracy score of the model SVC() is 98.23 %\n",
            " \n",
            "Cross validation accuracy for the model KNeighborsClassifier() is [0.96363636 0.97045455 0.97045455 0.97045455 0.98181818]\n",
            "Accuracy score of the model KNeighborsClassifier() is 97.14 %\n",
            " \n",
            "Cross validation accuracy for the model RandomForestClassifier(random_state=0) is [0.99772727 0.99090909 0.99772727 0.99545455 0.98636364]\n",
            "Accuracy score of the model RandomForestClassifier(random_state=0) is 99.36 %\n",
            " \n"
          ]
        }
      ],
      "source": [
        "def compare_models_cross_validation3():\n",
        "  for model in models:\n",
        "    cv_score = cross_val_score(model, x_std, ye, cv=5)\n",
        "    mean_accuracy = sum(cv_score)/len(cv_score)\n",
        "    mean_accuracy = mean_accuracy*100\n",
        "    mean_accuracy = round(mean_accuracy, 2)\n",
        "    print('Cross validation accuracy for the model', model, 'is', cv_score)\n",
        "    print('Accuracy score of the model', model, 'is', mean_accuracy, '%')\n",
        "    print(' ')\n",
        "compare_models_cross_validation3()"
      ]
    },
    {
      "cell_type": "code",
      "execution_count": 22,
      "metadata": {
        "id": "WpPTeLJs3isV"
      },
      "outputs": [],
      "source": [
        "model_hyperparameters = {\n",
        "    'log_reg_hyperparametera':{\n",
        "        'C' : [1,5,10,20]\n",
        "    },\n",
        "    'svc_hyperparameters': {\n",
        "        'kernel' : ['linear', 'poly', 'rbf', 'sigmoid'],\n",
        "        'C' : [1,5,10,20]\n",
        "    },\n",
        "    'KNN_hyperparameters': {\n",
        "        'n_neighbors' : [3,5,10]\n",
        "    },\n",
        "    'random_forest_hyperparameters': {\n",
        "        'n_estimators' : [10,20,50,100]\n",
        "    }\n",
        "}"
      ]
    },
    {
      "cell_type": "code",
      "execution_count": 23,
      "metadata": {
        "colab": {
          "base_uri": "https://localhost:8080/"
        },
        "id": "b3EbXzU18hry",
        "outputId": "03116018-4fa6-4f41-8447-1d296d09bd95"
      },
      "outputs": [
        {
          "data": {
            "text/plain": [
              "dict"
            ]
          },
          "execution_count": 23,
          "metadata": {},
          "output_type": "execute_result"
        }
      ],
      "source": [
        "type(model_hyperparameters)"
      ]
    },
    {
      "cell_type": "code",
      "execution_count": 24,
      "metadata": {
        "colab": {
          "base_uri": "https://localhost:8080/"
        },
        "id": "fn0yoNqh8ow3",
        "outputId": "29712015-7e3f-45e2-afb8-962606f0ac7c"
      },
      "outputs": [
        {
          "name": "stdout",
          "output_type": "stream",
          "text": [
            "dict_keys(['log_reg_hyperparametera', 'svc_hyperparameters', 'KNN_hyperparameters', 'random_forest_hyperparameters'])\n"
          ]
        }
      ],
      "source": [
        "print(model_hyperparameters.keys())"
      ]
    },
    {
      "cell_type": "code",
      "execution_count": 25,
      "metadata": {
        "colab": {
          "base_uri": "https://localhost:8080/"
        },
        "id": "TL_MPvFB8wnL",
        "outputId": "e5bda34a-6586-4a2c-fdfd-1e64e90173f5"
      },
      "outputs": [
        {
          "data": {
            "text/plain": [
              "{'kernel': ['linear', 'poly', 'rbf', 'sigmoid'], 'C': [1, 5, 10, 20]}"
            ]
          },
          "execution_count": 25,
          "metadata": {},
          "output_type": "execute_result"
        }
      ],
      "source": [
        "model_hyperparameters['svc_hyperparameters']"
      ]
    },
    {
      "cell_type": "code",
      "execution_count": 26,
      "metadata": {
        "colab": {
          "base_uri": "https://localhost:8080/"
        },
        "id": "oFQs1jEC6iAh",
        "outputId": "175c2ced-0052-4fa0-97a6-03c34f2ebf09"
      },
      "outputs": [
        {
          "name": "stdout",
          "output_type": "stream",
          "text": [
            "['log_reg_hyperparametera', 'svc_hyperparameters', 'KNN_hyperparameters', 'random_forest_hyperparameters']\n"
          ]
        }
      ],
      "source": [
        "model_keys = list(model_hyperparameters.keys())\n",
        "print(model_keys)"
      ]
    },
    {
      "cell_type": "code",
      "execution_count": 27,
      "metadata": {
        "id": "-VG-UhA88IM0"
      },
      "outputs": [],
      "source": [
        "def mod_select(models_list, hyperparameters_dictionary):\n",
        "  r = []\n",
        "  i = 0\n",
        "  for model in models_list:\n",
        "     k = model_keys[i]\n",
        "     parameter = hyperparameters_dictionary[k]\n",
        "     i += 1\n",
        "     print(model)\n",
        "     print(parameter)\n",
        "     print('')\n",
        "\n",
        "     classif = GridSearchCV(model, parameter, cv=5)\n",
        "     classif.fit(x_std, ye)\n",
        "     r.append({\n",
        "         'model used' : model,\n",
        "         'highest score' : classif.best_score_,\n",
        "         'best parameters' : classif.best_params_\n",
        "     })\n",
        "\n",
        "  r_df = pd.DataFrame(r, columns = ['model used', 'highest score', 'best parameters'])\n",
        "  return r_df\n"
      ]
    },
    {
      "cell_type": "code",
      "execution_count": 28,
      "metadata": {
        "colab": {
          "base_uri": "https://localhost:8080/",
          "height": 383
        },
        "id": "1fOxuN6XCi66",
        "outputId": "7ca05dcb-7ea4-44e1-cfae-f62faf6487cd"
      },
      "outputs": [
        {
          "name": "stdout",
          "output_type": "stream",
          "text": [
            "LogisticRegression(max_iter=3000)\n",
            "{'C': [1, 5, 10, 20]}\n",
            "\n",
            "SVC()\n",
            "{'kernel': ['linear', 'poly', 'rbf', 'sigmoid'], 'C': [1, 5, 10, 20]}\n",
            "\n",
            "KNeighborsClassifier()\n",
            "{'n_neighbors': [3, 5, 10]}\n",
            "\n",
            "RandomForestClassifier(random_state=0)\n",
            "{'n_estimators': [10, 20, 50, 100]}\n",
            "\n"
          ]
        },
        {
          "data": {
            "text/html": [
              "<div>\n",
              "<style scoped>\n",
              "    .dataframe tbody tr th:only-of-type {\n",
              "        vertical-align: middle;\n",
              "    }\n",
              "\n",
              "    .dataframe tbody tr th {\n",
              "        vertical-align: top;\n",
              "    }\n",
              "\n",
              "    .dataframe thead th {\n",
              "        text-align: right;\n",
              "    }\n",
              "</style>\n",
              "<table border=\"1\" class=\"dataframe\">\n",
              "  <thead>\n",
              "    <tr style=\"text-align: right;\">\n",
              "      <th></th>\n",
              "      <th>model used</th>\n",
              "      <th>highest score</th>\n",
              "      <th>best parameters</th>\n",
              "    </tr>\n",
              "  </thead>\n",
              "  <tbody>\n",
              "    <tr>\n",
              "      <th>0</th>\n",
              "      <td>LogisticRegression(max_iter=3000)</td>\n",
              "      <td>0.978636</td>\n",
              "      <td>{'C': 20}</td>\n",
              "    </tr>\n",
              "    <tr>\n",
              "      <th>1</th>\n",
              "      <td>SVC()</td>\n",
              "      <td>0.985909</td>\n",
              "      <td>{'C': 5, 'kernel': 'rbf'}</td>\n",
              "    </tr>\n",
              "    <tr>\n",
              "      <th>2</th>\n",
              "      <td>KNeighborsClassifier()</td>\n",
              "      <td>0.976364</td>\n",
              "      <td>{'n_neighbors': 3}</td>\n",
              "    </tr>\n",
              "    <tr>\n",
              "      <th>3</th>\n",
              "      <td>RandomForestClassifier(random_state=0)</td>\n",
              "      <td>0.994545</td>\n",
              "      <td>{'n_estimators': 20}</td>\n",
              "    </tr>\n",
              "  </tbody>\n",
              "</table>\n",
              "</div>"
            ],
            "text/plain": [
              "                               model used  highest score  \\\n",
              "0       LogisticRegression(max_iter=3000)       0.978636   \n",
              "1                                   SVC()       0.985909   \n",
              "2                  KNeighborsClassifier()       0.976364   \n",
              "3  RandomForestClassifier(random_state=0)       0.994545   \n",
              "\n",
              "             best parameters  \n",
              "0                  {'C': 20}  \n",
              "1  {'C': 5, 'kernel': 'rbf'}  \n",
              "2         {'n_neighbors': 3}  \n",
              "3       {'n_estimators': 20}  "
            ]
          },
          "execution_count": 28,
          "metadata": {},
          "output_type": "execute_result"
        }
      ],
      "source": [
        "mod_select(models, model_hyperparameters)"
      ]
    },
    {
      "cell_type": "markdown",
      "metadata": {},
      "source": [
        "Random Forest has the highest score"
      ]
    }
  ],
  "metadata": {
    "colab": {
      "provenance": []
    },
    "kernelspec": {
      "display_name": ".venv",
      "language": "python",
      "name": "python3"
    },
    "language_info": {
      "codemirror_mode": {
        "name": "ipython",
        "version": 3
      },
      "file_extension": ".py",
      "mimetype": "text/x-python",
      "name": "python",
      "nbconvert_exporter": "python",
      "pygments_lexer": "ipython3",
      "version": "3.13.3"
    }
  },
  "nbformat": 4,
  "nbformat_minor": 0
}
